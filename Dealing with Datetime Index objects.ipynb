{
 "cells": [
  {
   "cell_type": "code",
   "execution_count": 20,
   "id": "5ec299c9",
   "metadata": {},
   "outputs": [],
   "source": [
    "from datetime import datetime\n",
    "import numpy as np\n",
    "import pandas as pd"
   ]
  },
  {
   "cell_type": "code",
   "execution_count": 2,
   "id": "34c69136",
   "metadata": {},
   "outputs": [],
   "source": [
    "year = 2022\n",
    "month = 8\n",
    "day = 19\n",
    "hr = 17\n",
    "minute = 32\n",
    "sec = 23"
   ]
  },
  {
   "cell_type": "code",
   "execution_count": 5,
   "id": "ad7f6d5e",
   "metadata": {},
   "outputs": [
    {
     "data": {
      "text/plain": [
       "datetime.datetime(2022, 8, 19, 0, 0)"
      ]
     },
     "execution_count": 5,
     "metadata": {},
     "output_type": "execute_result"
    }
   ],
   "source": [
    "my_date = datetime(year,month,day)\n",
    "my_date"
   ]
  },
  {
   "cell_type": "code",
   "execution_count": 6,
   "id": "ac1a744b",
   "metadata": {},
   "outputs": [
    {
     "data": {
      "text/plain": [
       "datetime.datetime(2022, 8, 19, 17, 32, 23)"
      ]
     },
     "execution_count": 6,
     "metadata": {},
     "output_type": "execute_result"
    }
   ],
   "source": [
    "my_datetime = datetime(year,month,day,hr,minute,sec)\n",
    "my_datetime"
   ]
  },
  {
   "cell_type": "code",
   "execution_count": 7,
   "id": "2e9481da",
   "metadata": {},
   "outputs": [
    {
     "data": {
      "text/plain": [
       "(2022, 8, 0)"
      ]
     },
     "execution_count": 7,
     "metadata": {},
     "output_type": "execute_result"
    }
   ],
   "source": [
    "my_date.year, my_date.month, my_date.second"
   ]
  },
  {
   "cell_type": "code",
   "execution_count": 8,
   "id": "a98dfc85",
   "metadata": {},
   "outputs": [
    {
     "data": {
      "text/plain": [
       "(2022, 8, 19, 17, 32, 23)"
      ]
     },
     "execution_count": 8,
     "metadata": {},
     "output_type": "execute_result"
    }
   ],
   "source": [
    "my_datetime.year, my_datetime.month, my_datetime.day, my_datetime.hour, my_datetime.minute, my_datetime.second"
   ]
  },
  {
   "cell_type": "code",
   "execution_count": 9,
   "id": "5729b998",
   "metadata": {},
   "outputs": [
    {
     "data": {
      "text/plain": [
       "(datetime.datetime, datetime.datetime)"
      ]
     },
     "execution_count": 9,
     "metadata": {},
     "output_type": "execute_result"
    }
   ],
   "source": [
    "type(my_date), type(my_datetime)"
   ]
  },
  {
   "cell_type": "code",
   "execution_count": 11,
   "id": "bf212e44",
   "metadata": {},
   "outputs": [
    {
     "data": {
      "text/plain": [
       "array(['2018-03-27', '2021-05-14', '2022-09-04'], dtype='datetime64[D]')"
      ]
     },
     "execution_count": 11,
     "metadata": {},
     "output_type": "execute_result"
    }
   ],
   "source": [
    "np.array(['2018-03-27','2021-05-14','2022-09-04'],dtype='datetime64')"
   ]
  },
  {
   "cell_type": "code",
   "execution_count": 12,
   "id": "5b9a8393",
   "metadata": {},
   "outputs": [
    {
     "data": {
      "text/plain": [
       "array(['2018', '2021', '2022'], dtype='datetime64[Y]')"
      ]
     },
     "execution_count": 12,
     "metadata": {},
     "output_type": "execute_result"
    }
   ],
   "source": [
    "np.array(['2018-03-27','2021-05-14','2022-09-04'],dtype='datetime64[Y]') # year-level precision"
   ]
  },
  {
   "cell_type": "code",
   "execution_count": 13,
   "id": "df283813",
   "metadata": {},
   "outputs": [
    {
     "data": {
      "text/plain": [
       "array(['2018-03-27T00', '2021-05-14T00', '2022-09-04T00'],\n",
       "      dtype='datetime64[h]')"
      ]
     },
     "execution_count": 13,
     "metadata": {},
     "output_type": "execute_result"
    }
   ],
   "source": [
    "np.array(['2018-03-27','2021-05-14','2022-09-04'],dtype='datetime64[h]') # hour-level precision"
   ]
  },
  {
   "cell_type": "code",
   "execution_count": 14,
   "id": "05dca433",
   "metadata": {},
   "outputs": [
    {
     "data": {
      "text/plain": [
       "array(['2018-03-27T00:00', '2021-05-14T00:00', '2022-09-04T00:00'],\n",
       "      dtype='datetime64[m]')"
      ]
     },
     "execution_count": 14,
     "metadata": {},
     "output_type": "execute_result"
    }
   ],
   "source": [
    "np.array(['2018-03-27','2021-05-14','2022-09-04'],dtype='datetime64[m]') # minute-level precision"
   ]
  },
  {
   "cell_type": "code",
   "execution_count": 15,
   "id": "7d5cce96",
   "metadata": {},
   "outputs": [
    {
     "data": {
      "text/plain": [
       "array(['2018-03-27T00:00:00', '2021-05-14T00:00:00',\n",
       "       '2022-09-04T00:00:00'], dtype='datetime64[s]')"
      ]
     },
     "execution_count": 15,
     "metadata": {},
     "output_type": "execute_result"
    }
   ],
   "source": [
    "np.array(['2018-03-27','2021-05-14','2022-09-04'],dtype='datetime64[s]') # second-level precision"
   ]
  },
  {
   "cell_type": "code",
   "execution_count": 16,
   "id": "a2b0d7a4",
   "metadata": {},
   "outputs": [
    {
     "data": {
      "text/plain": [
       "array(['2018-03', '2021-05', '2022-09'], dtype='datetime64[M]')"
      ]
     },
     "execution_count": 16,
     "metadata": {},
     "output_type": "execute_result"
    }
   ],
   "source": [
    "np.array(['2018-03-27','2021-05-14','2022-09-04'],dtype='datetime64[M]') # Month-level precision"
   ]
  },
  {
   "cell_type": "code",
   "execution_count": 17,
   "id": "e639fa9a",
   "metadata": {},
   "outputs": [
    {
     "data": {
      "text/plain": [
       "array(['2024-07-06', '2024-07-07', '2024-07-08', '2024-07-09',\n",
       "       '2024-07-10', '2024-07-11', '2024-07-12', '2024-07-13',\n",
       "       '2024-07-14', '2024-07-15', '2024-07-16', '2024-07-17',\n",
       "       '2024-07-18', '2024-07-19', '2024-07-20', '2024-07-21',\n",
       "       '2024-07-22', '2024-07-23', '2024-07-24', '2024-07-25',\n",
       "       '2024-07-26', '2024-07-27', '2024-07-28', '2024-07-29',\n",
       "       '2024-07-30', '2024-07-31', '2024-08-01', '2024-08-02',\n",
       "       '2024-08-03', '2024-08-04', '2024-08-05', '2024-08-06',\n",
       "       '2024-08-07', '2024-08-08', '2024-08-09', '2024-08-10',\n",
       "       '2024-08-11', '2024-08-12', '2024-08-13', '2024-08-14',\n",
       "       '2024-08-15', '2024-08-16', '2024-08-17', '2024-08-18',\n",
       "       '2024-08-19', '2024-08-20', '2024-08-21', '2024-08-22',\n",
       "       '2024-08-23', '2024-08-24', '2024-08-25', '2024-08-26',\n",
       "       '2024-08-27', '2024-08-28', '2024-08-29', '2024-08-30',\n",
       "       '2024-08-31', '2024-09-01', '2024-09-02', '2024-09-03',\n",
       "       '2024-09-04', '2024-09-05', '2024-09-06', '2024-09-07',\n",
       "       '2024-09-08', '2024-09-09', '2024-09-10', '2024-09-11',\n",
       "       '2024-09-12', '2024-09-13', '2024-09-14', '2024-09-15',\n",
       "       '2024-09-16', '2024-09-17', '2024-09-18', '2024-09-19',\n",
       "       '2024-09-20', '2024-09-21'], dtype='datetime64[D]')"
      ]
     },
     "execution_count": 17,
     "metadata": {},
     "output_type": "execute_result"
    }
   ],
   "source": [
    "np.arange('2024-07-06','2024-09-22',dtype='datetime64[D]')"
   ]
  },
  {
   "cell_type": "code",
   "execution_count": 18,
   "id": "6758ef47",
   "metadata": {},
   "outputs": [
    {
     "data": {
      "text/plain": [
       "array(['2024-07-06', '2024-07-13', '2024-07-20', '2024-07-27',\n",
       "       '2024-08-03', '2024-08-10', '2024-08-17', '2024-08-24',\n",
       "       '2024-08-31', '2024-09-07', '2024-09-14', '2024-09-21'],\n",
       "      dtype='datetime64[D]')"
      ]
     },
     "execution_count": 18,
     "metadata": {},
     "output_type": "execute_result"
    }
   ],
   "source": [
    "np.arange('2024-07-06','2024-09-22',7,dtype='datetime64[D]')"
   ]
  },
  {
   "cell_type": "code",
   "execution_count": 19,
   "id": "c4d51040",
   "metadata": {},
   "outputs": [
    {
     "data": {
      "text/plain": [
       "array(['2005', '2006', '2007', '2008', '2009', '2010', '2011', '2012',\n",
       "       '2013', '2014', '2015', '2016', '2017', '2018'],\n",
       "      dtype='datetime64[Y]')"
      ]
     },
     "execution_count": 19,
     "metadata": {},
     "output_type": "execute_result"
    }
   ],
   "source": [
    "np.arange('2005-02-19','2019-11-08',dtype='datetime64[Y]')"
   ]
  },
  {
   "cell_type": "code",
   "execution_count": 22,
   "id": "e33e71d0",
   "metadata": {},
   "outputs": [
    {
     "data": {
      "text/plain": [
       "DatetimeIndex(['2017-03-31', '2017-04-30', '2017-05-31', '2017-06-30',\n",
       "               '2017-07-31', '2017-08-31', '2017-09-30', '2017-10-31',\n",
       "               '2017-11-30', '2017-12-31', '2018-01-31', '2018-02-28'],\n",
       "              dtype='datetime64[ns]', freq='M')"
      ]
     },
     "execution_count": 22,
     "metadata": {},
     "output_type": "execute_result"
    }
   ],
   "source": [
    "pd.date_range('2017-03-15',periods=12,freq='M')"
   ]
  },
  {
   "cell_type": "code",
   "execution_count": 23,
   "id": "60f2521f",
   "metadata": {},
   "outputs": [
    {
     "data": {
      "text/plain": [
       "DatetimeIndex(['2017-03-15', '2017-03-16', '2017-03-17', '2017-03-18',\n",
       "               '2017-03-19', '2017-03-20', '2017-03-21', '2017-03-22',\n",
       "               '2017-03-23', '2017-03-24', '2017-03-25', '2017-03-26'],\n",
       "              dtype='datetime64[ns]', freq='D')"
      ]
     },
     "execution_count": 23,
     "metadata": {},
     "output_type": "execute_result"
    }
   ],
   "source": [
    "pd.date_range('2017-03-15',periods=12,freq='D')"
   ]
  },
  {
   "cell_type": "code",
   "execution_count": 24,
   "id": "d37594e9",
   "metadata": {},
   "outputs": [
    {
     "data": {
      "text/plain": [
       "DatetimeIndex(['2017-12-31', '2018-12-31', '2019-12-31', '2020-12-31',\n",
       "               '2021-12-31', '2022-12-31', '2023-12-31', '2024-12-31',\n",
       "               '2025-12-31', '2026-12-31', '2027-12-31', '2028-12-31'],\n",
       "              dtype='datetime64[ns]', freq='A-DEC')"
      ]
     },
     "execution_count": 24,
     "metadata": {},
     "output_type": "execute_result"
    }
   ],
   "source": [
    "pd.date_range('2017-03-15',periods=12,freq='Y')"
   ]
  },
  {
   "cell_type": "code",
   "execution_count": 26,
   "id": "7ccaa9f4",
   "metadata": {},
   "outputs": [
    {
     "data": {
      "text/plain": [
       "DatetimeIndex(['2022-10-18', '2022-10-19', '2022-10-20', '2022-10-21',\n",
       "               '2022-10-22', '2022-10-23', '2022-10-24', '2022-10-25',\n",
       "               '2022-10-26', '2022-10-27', '2022-10-28', '2022-10-29',\n",
       "               '2022-10-30', '2022-10-31', '2022-11-01', '2022-11-02',\n",
       "               '2022-11-03', '2022-11-04', '2022-11-05', '2022-11-06',\n",
       "               '2022-11-07', '2022-11-08', '2022-11-09', '2022-11-10',\n",
       "               '2022-11-11', '2022-11-12', '2022-11-13', '2022-11-14',\n",
       "               '2022-11-15', '2022-11-16'],\n",
       "              dtype='datetime64[ns]', freq='D')"
      ]
     },
     "execution_count": 26,
     "metadata": {},
     "output_type": "execute_result"
    }
   ],
   "source": [
    "pd.date_range('Oct 18, 2022',periods=30,freq='D')"
   ]
  },
  {
   "cell_type": "code",
   "execution_count": 27,
   "id": "0f10f5a6",
   "metadata": {},
   "outputs": [
    {
     "data": {
      "text/plain": [
       "DatetimeIndex(['2018-01-03', '2018-05-08'], dtype='datetime64[ns]', freq=None)"
      ]
     },
     "execution_count": 27,
     "metadata": {},
     "output_type": "execute_result"
    }
   ],
   "source": [
    "pd.to_datetime(['Jan 03, 2018','05/08/2018'])"
   ]
  },
  {
   "cell_type": "code",
   "execution_count": 30,
   "id": "dd7cd4c5",
   "metadata": {},
   "outputs": [
    {
     "data": {
      "text/plain": [
       "DatetimeIndex(['2020-02-01', '2016-08-06'], dtype='datetime64[ns]', freq=None)"
      ]
     },
     "execution_count": 30,
     "metadata": {},
     "output_type": "execute_result"
    }
   ],
   "source": [
    "pd.to_datetime(['01-02-2020','06-08-2016'],format='%d-%m-%Y')"
   ]
  },
  {
   "cell_type": "code",
   "execution_count": 32,
   "id": "8dba8c6a",
   "metadata": {},
   "outputs": [
    {
     "data": {
      "text/plain": [
       "DatetimeIndex(['2019-09-05', '2022-04-01'], dtype='datetime64[ns]', freq=None)"
      ]
     },
     "execution_count": 32,
     "metadata": {},
     "output_type": "execute_result"
    }
   ],
   "source": [
    "pd.to_datetime(['09...05...2019','04...01...2022'],format='%m...%d...%Y')"
   ]
  },
  {
   "cell_type": "code",
   "execution_count": 34,
   "id": "5a1f9274",
   "metadata": {},
   "outputs": [
    {
     "data": {
      "text/html": [
       "<div>\n",
       "<style scoped>\n",
       "    .dataframe tbody tr th:only-of-type {\n",
       "        vertical-align: middle;\n",
       "    }\n",
       "\n",
       "    .dataframe tbody tr th {\n",
       "        vertical-align: top;\n",
       "    }\n",
       "\n",
       "    .dataframe thead th {\n",
       "        text-align: right;\n",
       "    }\n",
       "</style>\n",
       "<table border=\"1\" class=\"dataframe\">\n",
       "  <thead>\n",
       "    <tr style=\"text-align: right;\">\n",
       "      <th></th>\n",
       "      <th>A</th>\n",
       "      <th>B</th>\n",
       "      <th>C</th>\n",
       "      <th>D</th>\n",
       "    </tr>\n",
       "  </thead>\n",
       "  <tbody>\n",
       "    <tr>\n",
       "      <th>2018-10-24</th>\n",
       "      <td>-0.102100</td>\n",
       "      <td>-0.765850</td>\n",
       "      <td>-0.628350</td>\n",
       "      <td>1.918001</td>\n",
       "    </tr>\n",
       "    <tr>\n",
       "      <th>2018-10-25</th>\n",
       "      <td>0.315297</td>\n",
       "      <td>0.569396</td>\n",
       "      <td>-0.150988</td>\n",
       "      <td>0.899259</td>\n",
       "    </tr>\n",
       "    <tr>\n",
       "      <th>2018-10-26</th>\n",
       "      <td>1.358171</td>\n",
       "      <td>-0.109706</td>\n",
       "      <td>0.443992</td>\n",
       "      <td>1.972249</td>\n",
       "    </tr>\n",
       "    <tr>\n",
       "      <th>2018-10-27</th>\n",
       "      <td>0.627712</td>\n",
       "      <td>-0.054053</td>\n",
       "      <td>-0.169827</td>\n",
       "      <td>-0.203564</td>\n",
       "    </tr>\n",
       "    <tr>\n",
       "      <th>2018-10-28</th>\n",
       "      <td>0.089640</td>\n",
       "      <td>-0.613512</td>\n",
       "      <td>-0.848590</td>\n",
       "      <td>-0.022427</td>\n",
       "    </tr>\n",
       "    <tr>\n",
       "      <th>2018-10-29</th>\n",
       "      <td>0.158614</td>\n",
       "      <td>-0.614133</td>\n",
       "      <td>1.150560</td>\n",
       "      <td>-0.111290</td>\n",
       "    </tr>\n",
       "    <tr>\n",
       "      <th>2018-10-30</th>\n",
       "      <td>-0.371057</td>\n",
       "      <td>0.065496</td>\n",
       "      <td>-0.498488</td>\n",
       "      <td>-0.089994</td>\n",
       "    </tr>\n",
       "    <tr>\n",
       "      <th>2018-10-31</th>\n",
       "      <td>-0.687584</td>\n",
       "      <td>-0.266027</td>\n",
       "      <td>-2.076422</td>\n",
       "      <td>-0.038917</td>\n",
       "    </tr>\n",
       "  </tbody>\n",
       "</table>\n",
       "</div>"
      ],
      "text/plain": [
       "                   A         B         C         D\n",
       "2018-10-24 -0.102100 -0.765850 -0.628350  1.918001\n",
       "2018-10-25  0.315297  0.569396 -0.150988  0.899259\n",
       "2018-10-26  1.358171 -0.109706  0.443992  1.972249\n",
       "2018-10-27  0.627712 -0.054053 -0.169827 -0.203564\n",
       "2018-10-28  0.089640 -0.613512 -0.848590 -0.022427\n",
       "2018-10-29  0.158614 -0.614133  1.150560 -0.111290\n",
       "2018-10-30 -0.371057  0.065496 -0.498488 -0.089994\n",
       "2018-10-31 -0.687584 -0.266027 -2.076422 -0.038917"
      ]
     },
     "execution_count": 34,
     "metadata": {},
     "output_type": "execute_result"
    }
   ],
   "source": [
    "data = np.random.randn(8,4)\n",
    "cols = ['A','B','C','D']\n",
    "idx = pd.date_range('2018-10-24',periods=8,freq='D')\n",
    "\n",
    "df = pd.DataFrame(data,index=idx,columns=cols)\n",
    "df"
   ]
  },
  {
   "cell_type": "code",
   "execution_count": 35,
   "id": "217f86d6",
   "metadata": {},
   "outputs": [
    {
     "data": {
      "text/plain": [
       "DatetimeIndex(['2018-10-24', '2018-10-25', '2018-10-26', '2018-10-27',\n",
       "               '2018-10-28', '2018-10-29', '2018-10-30', '2018-10-31'],\n",
       "              dtype='datetime64[ns]', freq='D')"
      ]
     },
     "execution_count": 35,
     "metadata": {},
     "output_type": "execute_result"
    }
   ],
   "source": [
    "df.index"
   ]
  },
  {
   "cell_type": "code",
   "execution_count": 36,
   "id": "759fbe7b",
   "metadata": {},
   "outputs": [
    {
     "data": {
      "text/plain": [
       "Timestamp('2018-10-24 00:00:00', freq='D')"
      ]
     },
     "execution_count": 36,
     "metadata": {},
     "output_type": "execute_result"
    }
   ],
   "source": [
    "df.index.min()"
   ]
  },
  {
   "cell_type": "code",
   "execution_count": 37,
   "id": "571c7996",
   "metadata": {},
   "outputs": [
    {
     "data": {
      "text/plain": [
       "0"
      ]
     },
     "execution_count": 37,
     "metadata": {},
     "output_type": "execute_result"
    }
   ],
   "source": [
    "df.index.argmin()"
   ]
  },
  {
   "cell_type": "code",
   "execution_count": 38,
   "id": "2281217b",
   "metadata": {},
   "outputs": [
    {
     "data": {
      "text/plain": [
       "Timestamp('2018-10-31 00:00:00', freq='D')"
      ]
     },
     "execution_count": 38,
     "metadata": {},
     "output_type": "execute_result"
    }
   ],
   "source": [
    "df.index.max()"
   ]
  },
  {
   "cell_type": "code",
   "execution_count": 39,
   "id": "e2e9ff4e",
   "metadata": {},
   "outputs": [
    {
     "data": {
      "text/plain": [
       "7"
      ]
     },
     "execution_count": 39,
     "metadata": {},
     "output_type": "execute_result"
    }
   ],
   "source": [
    "df.index.argmax()"
   ]
  }
 ],
 "metadata": {
  "kernelspec": {
   "display_name": "Python 3 (ipykernel)",
   "language": "python",
   "name": "python3"
  },
  "language_info": {
   "codemirror_mode": {
    "name": "ipython",
    "version": 3
   },
   "file_extension": ".py",
   "mimetype": "text/x-python",
   "name": "python",
   "nbconvert_exporter": "python",
   "pygments_lexer": "ipython3",
   "version": "3.7.2"
  }
 },
 "nbformat": 4,
 "nbformat_minor": 5
}
